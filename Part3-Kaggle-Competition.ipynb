{
 "cells": [
  {
   "cell_type": "code",
   "execution_count": 2,
   "metadata": {},
   "outputs": [],
   "source": [
    "import pandas as pd\n",
    "import numpy as np\n",
    "import matplotlib.pyplot as plt"
   ]
  },
  {
   "cell_type": "markdown",
   "metadata": {},
   "source": [
    "### See what we have in the data"
   ]
  },
  {
   "cell_type": "code",
   "execution_count": 4,
   "metadata": {},
   "outputs": [],
   "source": [
    "tweet_dataset = pd.read_csv('tweet_dataset.csv')"
   ]
  },
  {
   "cell_type": "markdown",
   "metadata": {},
   "source": [
    "Print few rows to check the content"
   ]
  },
  {
   "cell_type": "code",
   "execution_count": 5,
   "metadata": {},
   "outputs": [
    {
     "data": {
      "text/plain": [
       "0    People who post \"add me on #Snapchat\" must be ...\n",
       "1    @brianklaas As we see, Trump is dangerous to #...\n",
       "2    Confident of your obedience, I write to you, k...\n",
       "3                  Now ISSA is stalking Tasha 😂😂😂 <LH>\n",
       "4    \"Trust is not the same as faith. A friend is s...\n",
       "5    @RISKshow @TheKevinAllison Thx for the BEST TI...\n",
       "6         Still waiting on those supplies Liscus. <LH>\n",
       "7                        Love knows no gender. 😢😭 <LH>\n",
       "8    @DStvNgCare @DStvNg More highlights are being ...\n",
       "9    When do you have enough ? When are you satisfi...\n",
       "Name: text, dtype: object"
      ]
     },
     "execution_count": 5,
     "metadata": {},
     "output_type": "execute_result"
    }
   ],
   "source": [
    "tweet_dataset[:10]['text']"
   ]
  },
  {
   "cell_type": "markdown",
   "metadata": {},
   "source": [
    "### Data preprocess"
   ]
  },
  {
   "cell_type": "markdown",
   "metadata": {},
   "source": [
    "Remove some irrelevant data, such as links, numbers, punctuation. Also, I try to add hasgtags data in the text to serve as additional information. Also, coonvert all the text to lowercase."
   ]
  },
  {
   "cell_type": "code",
   "execution_count": null,
   "metadata": {},
   "outputs": [],
   "source": [
    "import re\n",
    "from string import punctuation\n",
    "\n",
    "def preprocess_text(df):\n",
    "    text = df['text']\n",
    "    hashtags = df['hashtags']\n",
    "    text = re.sub(r'<LH>', '', text)\n",
    "    t3ext = re.sub(r'https?:\\/\\/.*[\\r\\n]*', '', text)\n",
    "    text = re.sub(r'[0-9]', '', text)\n",
    "    text = text + ' '+' '.join(eval(hashtags))\n",
    "    #lowercase text\n",
    "    text = text.lower()\n",
    "    text = re.sub(f\"[{re.escape(punctuation)}]\", \"\", text)  # remove punctuation\n",
    "    text = \" \".join(text.split())  # remove extra spaces, tabs, and new lines\n",
    "    return text\n",
    "\n",
    "tweet_dataset['preprocess_text'] = tweet_dataset.apply(preprocess_text, axis=1)"
   ]
  },
  {
   "cell_type": "markdown",
   "metadata": {},
   "source": [
    "Text after preprocess"
   ]
  },
  {
   "cell_type": "code",
   "execution_count": 7,
   "metadata": {},
   "outputs": [],
   "source": [
    "train_dataset = pd.read_csv('train_dataset.csv')"
   ]
  },
  {
   "cell_type": "code",
   "execution_count": 4,
   "metadata": {},
   "outputs": [
    {
     "data": {
      "text/html": [
       "<div>\n",
       "<style scoped>\n",
       "    .dataframe tbody tr th:only-of-type {\n",
       "        vertical-align: middle;\n",
       "    }\n",
       "\n",
       "    .dataframe tbody tr th {\n",
       "        vertical-align: top;\n",
       "    }\n",
       "\n",
       "    .dataframe thead th {\n",
       "        text-align: right;\n",
       "    }\n",
       "</style>\n",
       "<table border=\"1\" class=\"dataframe\">\n",
       "  <thead>\n",
       "    <tr style=\"text-align: right;\">\n",
       "      <th></th>\n",
       "      <th>tweet_id</th>\n",
       "      <th>preprocess_text</th>\n",
       "      <th>emotion</th>\n",
       "    </tr>\n",
       "  </thead>\n",
       "  <tbody>\n",
       "    <tr>\n",
       "      <th>0</th>\n",
       "      <td>0x376b20</td>\n",
       "      <td>people who post add me on snapchat must be deh...</td>\n",
       "      <td>anticipation</td>\n",
       "    </tr>\n",
       "    <tr>\n",
       "      <th>1</th>\n",
       "      <td>0x2d5350</td>\n",
       "      <td>brianklaas as we see trump is dangerous to fre...</td>\n",
       "      <td>sadness</td>\n",
       "    </tr>\n",
       "    <tr>\n",
       "      <th>2</th>\n",
       "      <td>0x1cd5b0</td>\n",
       "      <td>now issa is stalking tasha 😂😂😂</td>\n",
       "      <td>fear</td>\n",
       "    </tr>\n",
       "    <tr>\n",
       "      <th>3</th>\n",
       "      <td>0x1d755c</td>\n",
       "      <td>riskshow thekevinallison thx for the best time...</td>\n",
       "      <td>joy</td>\n",
       "    </tr>\n",
       "    <tr>\n",
       "      <th>4</th>\n",
       "      <td>0x2c91a8</td>\n",
       "      <td>still waiting on those supplies liscus</td>\n",
       "      <td>anticipation</td>\n",
       "    </tr>\n",
       "    <tr>\n",
       "      <th>...</th>\n",
       "      <td>...</td>\n",
       "      <td>...</td>\n",
       "      <td>...</td>\n",
       "    </tr>\n",
       "    <tr>\n",
       "      <th>1455558</th>\n",
       "      <td>0x321566</td>\n",
       "      <td>im so happy nowonder the name of this show hap...</td>\n",
       "      <td>joy</td>\n",
       "    </tr>\n",
       "    <tr>\n",
       "      <th>1455559</th>\n",
       "      <td>0x38959e</td>\n",
       "      <td>in every circumtance id like to be thankful to...</td>\n",
       "      <td>joy</td>\n",
       "    </tr>\n",
       "    <tr>\n",
       "      <th>1455560</th>\n",
       "      <td>0x2cbca6</td>\n",
       "      <td>theres currently two girls walking around the ...</td>\n",
       "      <td>joy</td>\n",
       "    </tr>\n",
       "    <tr>\n",
       "      <th>1455561</th>\n",
       "      <td>0x24faed</td>\n",
       "      <td>ah corporate life where you can date using jus...</td>\n",
       "      <td>joy</td>\n",
       "    </tr>\n",
       "    <tr>\n",
       "      <th>1455562</th>\n",
       "      <td>0x34be8c</td>\n",
       "      <td>blessed to be living sundayvibes sundayvibes</td>\n",
       "      <td>joy</td>\n",
       "    </tr>\n",
       "  </tbody>\n",
       "</table>\n",
       "<p>1455563 rows × 3 columns</p>\n",
       "</div>"
      ],
      "text/plain": [
       "         tweet_id                                    preprocess_text  \\\n",
       "0        0x376b20  people who post add me on snapchat must be deh...   \n",
       "1        0x2d5350  brianklaas as we see trump is dangerous to fre...   \n",
       "2        0x1cd5b0                     now issa is stalking tasha 😂😂😂   \n",
       "3        0x1d755c  riskshow thekevinallison thx for the best time...   \n",
       "4        0x2c91a8             still waiting on those supplies liscus   \n",
       "...           ...                                                ...   \n",
       "1455558  0x321566  im so happy nowonder the name of this show hap...   \n",
       "1455559  0x38959e  in every circumtance id like to be thankful to...   \n",
       "1455560  0x2cbca6  theres currently two girls walking around the ...   \n",
       "1455561  0x24faed  ah corporate life where you can date using jus...   \n",
       "1455562  0x34be8c       blessed to be living sundayvibes sundayvibes   \n",
       "\n",
       "              emotion  \n",
       "0        anticipation  \n",
       "1             sadness  \n",
       "2                fear  \n",
       "3                 joy  \n",
       "4        anticipation  \n",
       "...               ...  \n",
       "1455558           joy  \n",
       "1455559           joy  \n",
       "1455560           joy  \n",
       "1455561           joy  \n",
       "1455562           joy  \n",
       "\n",
       "[1455563 rows x 3 columns]"
      ]
     },
     "execution_count": 4,
     "metadata": {},
     "output_type": "execute_result"
    }
   ],
   "source": [
    "train_dataset"
   ]
  },
  {
   "cell_type": "markdown",
   "metadata": {},
   "source": [
    "### Total Number of training dataset"
   ]
  },
  {
   "cell_type": "code",
   "execution_count": 21,
   "metadata": {},
   "outputs": [
    {
     "name": "stdout",
     "output_type": "stream",
     "text": [
      "Length of training dataset: 1455563\n"
     ]
    }
   ],
   "source": [
    "print(f'Length of training dataset: {len(train_dataset)}')"
   ]
  },
  {
   "cell_type": "markdown",
   "metadata": {},
   "source": [
    "### See the Label distribution\n",
    "We have unbalanced data in the dataset, we may need to deal with it in the future step."
   ]
  },
  {
   "cell_type": "code",
   "execution_count": null,
   "metadata": {},
   "outputs": [
    {
     "data": {
      "text/plain": [
       "emotion\n",
       "anger            39867\n",
       "anticipation    248935\n",
       "disgust         139101\n",
       "fear             63999\n",
       "joy             516017\n",
       "sadness         193437\n",
       "surprise         48729\n",
       "trust           205478\n",
       "Name: preprocess_text, dtype: int64"
      ]
     },
     "execution_count": 18,
     "metadata": {},
     "output_type": "execute_result"
    }
   ],
   "source": [
    "# Count the emotion\n",
    "count_df = train_dataset.groupby(['emotion']).count()['preprocess_text']\n",
    "count_df"
   ]
  },
  {
   "cell_type": "code",
   "execution_count": null,
   "metadata": {},
   "outputs": [
    {
     "data": {
      "image/png": "[encoded data removed]",
      "text/plain": [
       "<Figure size 1000x300 with 1 Axes>"
      ]
     },
     "metadata": {},
     "output_type": "display_data"
    }
   ],
   "source": [
    "%matplotlib inline\n",
    "\n",
    "# the histogram of the data\n",
    "labels = train_dataset['emotion'].unique()\n",
    "post_total = len(train_dataset)\n",
    "count_df = count_df.apply(lambda x: round(x*100/post_total,3))\n",
    "\n",
    "#plot\n",
    "fig, ax = plt.subplots(figsize=(10,3))\n",
    "plt.bar(count_df.index, count_df.values)\n",
    "\n",
    "#arrange\n",
    "plt.ylabel('% of instances')\n",
    "plt.xlabel('Emotion')\n",
    "plt.title('Emotion distribution')\n",
    "plt.grid(True)\n",
    "plt.show()"
   ]
  },
  {
   "cell_type": "markdown",
   "metadata": {},
   "source": [
    "### Decision Tree\n",
    "Using decision tree and bag of word as first apporach. Set max feature as 500 to avoid the feature size to be too large. We set max depth=20, because if we don't specify it, the running time will be too long. The final accuracy in testing set is roughly 42-43%. As what I experiment, setting depth to 20 is better than 40. I guess if the tree is too deep, it may lead to overfitting. The performance will be worse."
   ]
  },
  {
   "cell_type": "code",
   "execution_count": 10,
   "metadata": {},
   "outputs": [],
   "source": [
    "from sklearn.model_selection import train_test_split\n",
    "\n",
    "train_df, test_df= train_test_split(train_dataset, test_size=0.2, random_state=42)"
   ]
  },
  {
   "cell_type": "code",
   "execution_count": null,
   "metadata": {},
   "outputs": [],
   "source": [
    "from sklearn.feature_extraction.text import CountVectorizer\n",
    "import nltk\n",
    "\n",
    "# Using bag of words and set the max feature=500 to avoid the feature be too large\n",
    "BOW_500 = CountVectorizer(max_features=500, tokenizer=nltk.word_tokenize) \n",
    "BOW_500.fit(train_df['preprocess_text'])"
   ]
  },
  {
   "cell_type": "code",
   "execution_count": 11,
   "metadata": {},
   "outputs": [],
   "source": [
    "X_train = BOW_500.transform(train_df['preprocess_text'])\n",
    "y_train = train_df['emotion']\n",
    "\n",
    "X_test = BOW_500.transform(test_df['preprocess_text'])\n",
    "y_test = test_df['emotion']"
   ]
  },
  {
   "cell_type": "code",
   "execution_count": 13,
   "metadata": {},
   "outputs": [],
   "source": [
    "from sklearn.tree import DecisionTreeClassifier\n",
    "from sklearn.metrics import accuracy_score\n",
    "from sklearn.metrics import classification_report\n",
    "from sklearn.metrics import confusion_matrix"
   ]
  },
  {
   "cell_type": "code",
   "execution_count": 8,
   "metadata": {},
   "outputs": [
    {
     "name": "stdout",
     "output_type": "stream",
     "text": [
      "\n",
      " -- Result of using Decision Tree model --\n",
      "Training accuracy: 0.42\n",
      "Testing accuracy: 0.42\n",
      "\n",
      " -- Classification report of using testing dataset --\n",
      "              precision    recall  f1-score   support\n",
      "\n",
      "       anger       0.05      0.00      0.00      7946\n",
      "anticipation       0.75      0.23      0.35     49984\n",
      "     disgust       0.76      0.05      0.09     27669\n",
      "        fear       0.34      0.00      0.00     12846\n",
      "         joy       0.38      0.97      0.55    102943\n",
      "     sadness       0.56      0.20      0.29     38745\n",
      "    surprise       0.42      0.00      0.00      9816\n",
      "       trust       0.70      0.03      0.05     41164\n",
      "\n",
      "    accuracy                           0.42    291113\n",
      "   macro avg       0.50      0.18      0.17    291113\n",
      "weighted avg       0.54      0.42      0.31    291113\n",
      "\n",
      "\n",
      " -- Confusion matrix of using testing dataset --\n",
      "[[    1    49    51     0  7329   512     0     4]\n",
      " [    3 11431    30     2 37640   793     2    83]\n",
      " [    5   183  1362     1 23984  2128     0     6]\n",
      " [    1    96    47    13 12229   456     0     4]\n",
      " [    3  1983    74    16 99438  1051     9   369]\n",
      " [    6   224   174     3 30602  7710     3    23]\n",
      " [    1    65    21     1  9181   533    10     4]\n",
      " [    1  1298    23     2 38172   505     0  1163]]\n"
     ]
    }
   ],
   "source": [
    "# build DecisionTree model and set max depth to 20\n",
    "DT_model_1 = DecisionTreeClassifier(random_state=1, max_depth=20)\n",
    "\n",
    "# training\n",
    "DT_model_1 = DT_model_1.fit(X_train, y_train)\n",
    "\n",
    "# predict\n",
    "y_train_pred = DT_model_1.predict(X_train)\n",
    "y_test_pred = DT_model_1.predict(X_test)\n",
    "\n",
    "# Accuracy\n",
    "acc_train = accuracy_score(y_true=y_train, y_pred=y_train_pred)\n",
    "acc_test = accuracy_score(y_true=y_test, y_pred=y_test_pred)\n",
    "\n",
    "print('\\n -- Result of using Decision Tree model --')\n",
    "print('Training accuracy: {}'.format(round(acc_train, 2)))\n",
    "print('Testing accuracy: {}'.format(round(acc_test, 2)))\n",
    "\n",
    "# precision, recall, f1-score\n",
    "print('\\n -- Classification report of using testing dataset --')\n",
    "print(classification_report(y_true=y_test, y_pred=y_test_pred))\n",
    "\n",
    "# check by confusion matrix\n",
    "print('\\n -- Confusion matrix of using testing dataset --')\n",
    "cm = confusion_matrix(y_true=y_test, y_pred=y_test_pred) \n",
    "print(cm)"
   ]
  },
  {
   "cell_type": "code",
   "execution_count": 15,
   "metadata": {},
   "outputs": [
    {
     "name": "stdout",
     "output_type": "stream",
     "text": [
      "\n",
      " -- Result of using Decision Tree(max depth=40) model --\n",
      "Training accuracy: 0.47\n",
      "Testing accuracy: 0.43\n",
      "\n",
      " -- Classification report of using testing dataset --\n",
      "              precision    recall  f1-score   support\n",
      "\n",
      "       anger       0.12      0.00      0.01      7946\n",
      "anticipation       0.68      0.29      0.40     49984\n",
      "     disgust       0.54      0.08      0.13     27669\n",
      "        fear       0.40      0.03      0.05     12846\n",
      "         joy       0.40      0.94      0.56    102943\n",
      "     sadness       0.54      0.21      0.30     38745\n",
      "    surprise       0.24      0.00      0.01      9816\n",
      "       trust       0.60      0.11      0.18     41164\n",
      "\n",
      "    accuracy                           0.43    291113\n",
      "   macro avg       0.44      0.21      0.20    291113\n",
      "weighted avg       0.49      0.43      0.35    291113\n",
      "\n",
      "\n",
      " -- Confusion matrix of using testing dataset --\n",
      "[[   23   168   175    11  6986   521     2    60]\n",
      " [   24 14274   236   143 33675   944    31   657]\n",
      " [   28   515  2114    42 22428  2380    18   144]\n",
      " [   10   288   125   340 11537   463     2    81]\n",
      " [   41  3005   334   167 96319  1316    52  1709]\n",
      " [   33   698   689    57 28881  8123    33   231]\n",
      " [    8   169   112    11  8842   566    49    59]\n",
      " [   18  1818   143    72 34103   660    20  4330]]\n"
     ]
    }
   ],
   "source": [
    "# build DecisionTree model and set max depth = 40\n",
    "DT_model_1 = DecisionTreeClassifier(random_state=1, max_depth=40)\n",
    "\n",
    "# training\n",
    "DT_model_1 = DT_model_1.fit(X_train, y_train)\n",
    "\n",
    "# predict\n",
    "y_train_pred = DT_model_1.predict(X_train)\n",
    "y_test_pred = DT_model_1.predict(X_test)\n",
    "\n",
    "# Accuracy\n",
    "acc_train = accuracy_score(y_true=y_train, y_pred=y_train_pred)\n",
    "acc_test = accuracy_score(y_true=y_test, y_pred=y_test_pred)\n",
    "\n",
    "print('\\n -- Result of using Decision Tree(max depth=40) model --')\n",
    "print('Training accuracy: {}'.format(round(acc_train, 2)))\n",
    "print('Testing accuracy: {}'.format(round(acc_test, 2)))\n",
    "\n",
    "# precision, recall, f1-score\n",
    "print('\\n -- Classification report of using testing dataset --')\n",
    "print(classification_report(y_true=y_test, y_pred=y_test_pred))\n",
    "\n",
    "# check by confusion matrix\n",
    "print('\\n -- Confusion matrix of using testing dataset --')\n",
    "cm = confusion_matrix(y_true=y_test, y_pred=y_test_pred) \n",
    "print(cm)"
   ]
  },
  {
   "cell_type": "markdown",
   "metadata": {},
   "source": [
    "### Naive Model"
   ]
  },
  {
   "cell_type": "markdown",
   "metadata": {},
   "source": [
    "The second approach I try is using the naive model. The testing result is not really different from using the decision model. It's approximately 42%."
   ]
  },
  {
   "cell_type": "code",
   "execution_count": 16,
   "metadata": {},
   "outputs": [],
   "source": [
    "from sklearn.naive_bayes import MultinomialNB\n",
    "\n",
    "clf = MultinomialNB()\n",
    "clf.fit(X_train, y_train)\n",
    "y_train_pred = clf.predict(X_train)\n",
    "y_test_pred = clf.predict(X_test)"
   ]
  },
  {
   "cell_type": "code",
   "execution_count": 17,
   "metadata": {},
   "outputs": [
    {
     "name": "stdout",
     "output_type": "stream",
     "text": [
      "-- Result of using Naive Bayes model --\n",
      "Training accuracy: 0.42\n",
      "Testing accuracy: 0.42\n",
      "\n",
      "-- Classification report of testing dataset --\n",
      "              precision    recall  f1-score   support\n",
      "\n",
      "       anger       0.12      0.07      0.09      7946\n",
      "anticipation       0.46      0.43      0.45     49984\n",
      "     disgust       0.29      0.28      0.28     27669\n",
      "        fear       0.21      0.13      0.16     12846\n",
      "         joy       0.47      0.67      0.55    102943\n",
      "     sadness       0.38      0.32      0.35     38745\n",
      "    surprise       0.25      0.07      0.11      9816\n",
      "       trust       0.36      0.19      0.25     41164\n",
      "\n",
      "    accuracy                           0.42    291113\n",
      "   macro avg       0.32      0.27      0.28    291113\n",
      "weighted avg       0.39      0.42      0.39    291113\n",
      "\n",
      "\n",
      " -- Confusion Matrix of testing dataset --\n",
      "[[  546   694  1288   231  3567  1235    79   306]\n",
      " [  478 21738  2824  1031 17578  3277   224  2834]\n",
      " [  689  2469  7758   894  9993  4731   309   826]\n",
      " [  195  1201  1427  1719  6515  1291   100   398]\n",
      " [ 1061 11789  4939  2229 68593  5856   655  7821]\n",
      " [  886  3226  5509  1038 13888 12511   403  1284]\n",
      " [  159   825  1358   362  4478  1591   663   380]\n",
      " [  408  5759  2086   746 21479  2541   219  7926]]\n"
     ]
    }
   ],
   "source": [
    "acc_train = accuracy_score(y_true=y_train, y_pred=y_train_pred)\n",
    "acc_test = accuracy_score(y_true=y_test, y_pred=y_test_pred)\n",
    "\n",
    "print('-- Result of using Naive Bayes model --')\n",
    "print('Training accuracy: {}'.format(round(acc_train, 2)))\n",
    "print('Testing accuracy: {}'.format(round(acc_test, 2)))\n",
    "print('\\n-- Classification report of testing dataset --')\n",
    "print(classification_report(y_true=y_test, y_pred=y_test_pred))\n",
    "\n",
    "print('\\n -- Confusion Matrix of testing dataset --')\n",
    "cm = confusion_matrix(y_true=y_test, y_pred=y_test_pred) \n",
    "print(cm)"
   ]
  },
  {
   "cell_type": "markdown",
   "metadata": {},
   "source": [
    "### Deep learning model\n",
    "Using deep learning model the testing result is 47%. Also, too much epochs of training will lead to overfitting."
   ]
  },
  {
   "cell_type": "code",
   "execution_count": 19,
   "metadata": {},
   "outputs": [
    {
     "name": "stdout",
     "output_type": "stream",
     "text": [
      "check label:  ['anger' 'anticipation' 'disgust' 'fear' 'joy' 'sadness' 'surprise'\n",
      " 'trust']\n",
      "\n",
      "## Before convert\n",
      "y_train[0:4]:\n",
      " 834097        joy\n",
      "355739    sadness\n",
      "625638        joy\n",
      "678647        joy\n",
      "Name: emotion, dtype: object\n",
      "\n",
      "y_train.shape:  (1164450,)\n",
      "y_test.shape:  (291113,)\n",
      "\n",
      "\n",
      "## After convert\n",
      "y_train[0:4]:\n",
      " [[0. 0. 0. 0. 1. 0. 0. 0.]\n",
      " [0. 0. 0. 0. 0. 1. 0. 0.]\n",
      " [0. 0. 0. 0. 1. 0. 0. 0.]\n",
      " [0. 0. 0. 0. 1. 0. 0. 0.]]\n",
      "\n",
      "y_train.shape:  (1164450, 8)\n",
      "y_test.shape:  (291113, 8)\n"
     ]
    }
   ],
   "source": [
    "from sklearn.preprocessing import LabelEncoder\n",
    "import keras\n",
    "\n",
    "label_encoder = LabelEncoder()\n",
    "label_encoder.fit(y_train)\n",
    "print('check label: ', label_encoder.classes_)\n",
    "print('\\n## Before convert')\n",
    "print('y_train[0:4]:\\n', y_train.iloc[0:4])\n",
    "print('\\ny_train.shape: ', y_train.shape)\n",
    "print('y_test.shape: ', y_test.shape)\n",
    "\n",
    "def label_encode(le, labels):\n",
    "    enc = le.transform(labels)\n",
    "    return keras.utils.to_categorical(enc)\n",
    "\n",
    "def label_decode(le, one_hot_label):\n",
    "    dec = np.argmax(one_hot_label, axis=1)\n",
    "    return le.inverse_transform(dec)\n",
    "\n",
    "y_train = label_encode(label_encoder, y_train)\n",
    "y_test = label_encode(label_encoder, y_test)\n",
    "\n",
    "print('\\n\\n## After convert')\n",
    "print('y_train[0:4]:\\n', y_train[0:4])\n",
    "print('\\ny_train.shape: ', y_train.shape)\n",
    "print('y_test.shape: ', y_test.shape)"
   ]
  },
  {
   "cell_type": "code",
   "execution_count": 24,
   "metadata": {},
   "outputs": [
    {
     "name": "stdout",
     "output_type": "stream",
     "text": [
      "Model: \"model_1\"\n",
      "_________________________________________________________________\n",
      " Layer (type)                Output Shape              Param #   \n",
      "=================================================================\n",
      " input_2 (InputLayer)        [(None, 500)]             0         \n",
      "                                                                 \n",
      " dense_3 (Dense)             (None, 64)                32064     \n",
      "                                                                 \n",
      " re_lu_2 (ReLU)              (None, 64)                0         \n",
      "                                                                 \n",
      " dense_4 (Dense)             (None, 64)                4160      \n",
      "                                                                 \n",
      " re_lu_3 (ReLU)              (None, 64)                0         \n",
      "                                                                 \n",
      " dense_5 (Dense)             (None, 8)                 520       \n",
      "                                                                 \n",
      " softmax_1 (Softmax)         (None, 8)                 0         \n",
      "                                                                 \n",
      "=================================================================\n",
      "Total params: 36,744\n",
      "Trainable params: 36,744\n",
      "Non-trainable params: 0\n",
      "_________________________________________________________________\n"
     ]
    }
   ],
   "source": [
    "# Data input output\n",
    "input_shape = X_train.shape[1]\n",
    "output_shape = len(label_encoder.classes_)\n",
    "\n",
    "from keras.models import Model\n",
    "from keras.layers import Input, Dense\n",
    "from keras.layers import ReLU, Softmax\n",
    "\n",
    "# input layer\n",
    "model_input = Input(shape=(input_shape, )) # 500\n",
    "X = model_input\n",
    "\n",
    "# 1st hidden layer\n",
    "X_W1 = Dense(units=64)(X) # 64\n",
    "H1 = ReLU()(X_W1)\n",
    "\n",
    "# 2nd hidden layer\n",
    "H1_W2 = Dense(units=64)(H1) # 64\n",
    "H2 = ReLU()(H1_W2)\n",
    "\n",
    "# output layer\n",
    "H2_W3 = Dense(units=output_shape)(H2) # 8\n",
    "H3 = Softmax()(H2_W3)\n",
    "\n",
    "model_output = H3\n",
    "\n",
    "# create model\n",
    "model = Model(inputs=[model_input], outputs=[model_output])\n",
    "\n",
    "# loss function & optimizer\n",
    "model.compile(optimizer='adam',\n",
    "              loss='categorical_crossentropy',\n",
    "              metrics=['accuracy'])\n",
    "\n",
    "# show model construction\n",
    "model.summary()"
   ]
  },
  {
   "cell_type": "code",
   "execution_count": 25,
   "metadata": {},
   "outputs": [
    {
     "name": "stdout",
     "output_type": "stream",
     "text": [
      "Epoch 1/5\n",
      "36390/36390 [==============================] - 118s 3ms/step - loss: 1.4730 - accuracy: 0.4624 - val_loss: 1.4544 - val_accuracy: 0.4667\n",
      "Epoch 2/5\n",
      "36390/36390 [==============================] - 138s 4ms/step - loss: 1.4379 - accuracy: 0.4752 - val_loss: 1.4426 - val_accuracy: 0.4724\n",
      "Epoch 3/5\n",
      "36390/36390 [==============================] - 203s 6ms/step - loss: 1.4273 - accuracy: 0.4792 - val_loss: 1.4375 - val_accuracy: 0.4746\n",
      "Epoch 4/5\n",
      "36390/36390 [==============================] - 40860s 1s/step - loss: 1.4214 - accuracy: 0.4811 - val_loss: 1.4366 - val_accuracy: 0.4744\n",
      "Epoch 5/5\n",
      "36390/36390 [==============================] - 187s 5ms/step - loss: 1.4172 - accuracy: 0.4827 - val_loss: 1.4382 - val_accuracy: 0.4749\n",
      "training finish\n"
     ]
    }
   ],
   "source": [
    "from keras.callbacks import CSVLogger\n",
    "import warnings\n",
    "warnings.filterwarnings('ignore')\n",
    "\n",
    "csv_logger = CSVLogger('logs/training_log.csv')\n",
    "\n",
    "# training setting\n",
    "epochs = 5\n",
    "batch_size = 32\n",
    "\n",
    "# training!\n",
    "history = model.fit(X_train, y_train, \n",
    "                    epochs=epochs, \n",
    "                    batch_size=batch_size, \n",
    "                    callbacks=[csv_logger],\n",
    "                    validation_data = (X_test, y_test))\n",
    "print('training finish')"
   ]
  },
  {
   "cell_type": "code",
   "execution_count": 26,
   "metadata": {},
   "outputs": [
    {
     "name": "stdout",
     "output_type": "stream",
     "text": [
      "2275/2275 [==============================] - 7s 3ms/step\n",
      "-- Result of using Deep Learning model --\n",
      "testing accuracy: 0.47\n"
     ]
    }
   ],
   "source": [
    "# Testing result\n",
    "pred_result = model.predict(X_test, batch_size=128)\n",
    "pred_result = label_decode(label_encoder, pred_result)\n",
    "from sklearn.metrics import accuracy_score\n",
    "\n",
    "print('-- Result of using Deep Learning model --')\n",
    "print('testing accuracy: {}'.format(round(accuracy_score(label_decode(label_encoder, y_test), pred_result), 2)))"
   ]
  },
  {
   "cell_type": "markdown",
   "metadata": {},
   "source": [
    "### Bert model\n",
    "Then, I try to use BERT model to do the training, since it's still the common and popular way for dealing with NLP problem these day.\n",
    " - First, I random sample 10000 data and train it, the result is roughly 45%. Also, the prediction result for the small amount type label(anger, fear, surprise) had really bad performance.As a result, I try to do the under-sampling. The label is more balanced and the dataset size also increase. The overall test performance increase, but the submission result is not that good. I found out that maybe the data distribution in the private dataset is also unbalanced, also I should let the model have more training data to learn more information.\n",
    " - Second, I try to the two stages training for the model. In the first step, I do the under-sampling to let the model learn more about all the label. In the second step, I use all the training dataset we have to train the model(Of course, it need more training time). The final testing accuracy went to 53%.\n",
    " - Third, I also try the RoBERTa model to do the emotion classification. The RoBERTa model was proposed in RoBERTa: A Robustly Optimized BERT Pretraining Approach. It is a revised version of bert model. The final prediction result went to nearly 60%."
   ]
  },
  {
   "cell_type": "code",
   "execution_count": null,
   "metadata": {},
   "outputs": [],
   "source": [
    "from torch.utils.data import DataLoader,SequentialSampler,RandomSampler,TensorDataset,random_split\n",
    "from transformers import BertTokenizer,BertForSequenceClassification,AdamW\n",
    "from transformers import BertTokenizer"
   ]
  },
  {
   "cell_type": "code",
   "execution_count": null,
   "metadata": {},
   "outputs": [],
   "source": [
    "LABEL_COLUMN = 'emotion'\n",
    "TEXT_COLUMN = 'preprocess_text'\n",
    "turn_labels = {\n",
    "          'sadness':0, \n",
    "          'disgust':1, \n",
    "          'anticipation':2, \n",
    "          'joy':3, \n",
    "          'trust':4, \n",
    "          'anger':5,\n",
    "          'fear':6, \n",
    "          'surprise':7\n",
    "          }\n",
    "num_labels = len(turn_labels.keys())"
   ]
  },
  {
   "cell_type": "markdown",
   "metadata": {},
   "source": [
    "#### Under sampling"
   ]
  },
  {
   "cell_type": "code",
   "execution_count": null,
   "metadata": {},
   "outputs": [],
   "source": [
    "# Find the minimum number of label\n",
    "count_dict = train_dataset.emotion.value_counts()\n",
    "min_count = min(count_dict)"
   ]
  },
  {
   "cell_type": "code",
   "execution_count": null,
   "metadata": {},
   "outputs": [],
   "source": [
    "class_8, class_7, class_6, class_5, class_4, class_3, class_2, class_1 = train_dataset.emotion.value_counts()\n",
    "c1 = train_dataset[train_dataset['emotion'] == 'joy']\n",
    "c2 = train_dataset[train_dataset['emotion'] == 'anticipation']\n",
    "c3 = train_dataset[train_dataset['emotion'] == 'trust']\n",
    "c4 = train_dataset[train_dataset['emotion'] == 'sadness']\n",
    "c5 = train_dataset[train_dataset['emotion'] == 'disgust']\n",
    "c6 = train_dataset[train_dataset['emotion'] == 'fear']\n",
    "c7 = train_dataset[train_dataset['emotion'] == 'surprise']\n",
    "c8 = train_dataset[train_dataset['emotion'] == 'anger']\n",
    "df_1 = c1.sample(min_count)\n",
    "df_2 = c2.sample(min_count)\n",
    "df_3 = c3.sample(min_count)\n",
    "df_4 = c4.sample(min_count)\n",
    "df_5 = c5.sample(min_count)\n",
    "df_6 = c6.sample(min_count)\n",
    "df_7 = c7.sample(min_count)\n",
    "df_8 = c8.sample(min_count)"
   ]
  },
  {
   "cell_type": "code",
   "execution_count": null,
   "metadata": {},
   "outputs": [],
   "source": [
    "from sklearn.utils import shuffle\n",
    "\n",
    "# Concat all the data and shuffle it\n",
    "train_dataset = pd.concat([df_1,df_2,df_3,df_4,df_5,df_6,df_7,df_8],axis=0)\n",
    "train_dataset = shuffle(train_dataset)\n",
    "train_dataset = train_dataset.reset_index(drop=True)\n",
    "train_dataset"
   ]
  },
  {
   "cell_type": "code",
   "execution_count": null,
   "metadata": {},
   "outputs": [],
   "source": [
    "input_ids = []\n",
    "attention_mask = []\n",
    "# Using BERT \n",
    "tokenizer = BertTokenizer.from_pretrained('bert-base-uncased')\n",
    "# Using RoBERTa\n",
    "# tokenizer = RobertaTokenizer.from_pretrained('cardiffnlp/twitter-roberta-base-emotion')\n",
    "\n",
    "for i in train_dataset['preprocess_text']:\n",
    "    encoded_data = tokenizer.encode_plus(\n",
    "    i,\n",
    "    add_special_tokens=True,\n",
    "    max_length=64,\n",
    "    pad_to_max_length = True,\n",
    "    truncation=True,\n",
    "    return_attention_mask= True,\n",
    "    return_tensors='pt')\n",
    "    input_ids.append(encoded_data['input_ids'])\n",
    "    attention_mask.append(encoded_data['attention_mask'])\n",
    "input_ids = torch.cat(input_ids,dim=0)\n",
    "attention_mask = torch.cat(attention_mask,dim=0)\n",
    "labels = torch.tensor([turn_labels[label] for label in train_dataset[LABEL_COLUMN]])"
   ]
  },
  {
   "cell_type": "code",
   "execution_count": null,
   "metadata": {},
   "outputs": [],
   "source": [
    "torch.manual_seed(0)\n",
    "dataset = TensorDataset(input_ids,attention_mask,labels)\n",
    "train_size = int(0.9*len(dataset))\n",
    "val_size = len(dataset) - train_size\n",
    "\n",
    "train_dataset,val_dataset = random_split(dataset,[train_size,val_size])\n",
    "\n",
    "print('Training Size - ',train_size)\n",
    "print('Validation Size - ',val_size)"
   ]
  },
  {
   "cell_type": "code",
   "execution_count": null,
   "metadata": {},
   "outputs": [],
   "source": [
    "# Build the data loader\n",
    "train_dl = DataLoader(train_dataset,sampler = RandomSampler(train_dataset),\n",
    "                     batch_size = 64)\n",
    "val_dl = DataLoader(val_dataset,sampler = SequentialSampler(val_dataset),\n",
    "                     batch_size = 64)"
   ]
  },
  {
   "cell_type": "code",
   "execution_count": null,
   "metadata": {},
   "outputs": [],
   "source": [
    "def accuracy(preds,labels):\n",
    "    pred_flat = np.argmax(preds,axis=1).flatten()\n",
    "    label_flat = labels.flatten()\n",
    "    print('----------------------------------------------')\n",
    "    print(classification_report(y_true=label_flat, y_pred=pred_flat))\n",
    "    return np.sum(pred_flat==label_flat)/len(label_flat)"
   ]
  },
  {
   "cell_type": "code",
   "execution_count": null,
   "metadata": {},
   "outputs": [],
   "source": [
    "from sklearn.metrics import classification_report\n",
    "\n",
    "def evaluate(model, dataloader_test, device):\n",
    "    model.eval()\n",
    "    loss_val_total = 0\n",
    "    predictions,true_vals = [],[]\n",
    "    for batch in dataloader_test:\n",
    "        batch = tuple(b.to(device) for b in batch)\n",
    "        inputs = {\n",
    "            'input_ids':batch[0],\n",
    "            'attention_mask': batch[1],\n",
    "            'labels': batch[2]\n",
    "        }\n",
    "        with torch.no_grad():\n",
    "            outputs = model(**inputs)\n",
    "        loss = outputs[0]\n",
    "        logits = outputs[1]\n",
    "        loss_val_total += loss.item()\n",
    "        logits = logits.detach().cpu().numpy()\n",
    "        label_ids = inputs['labels'].cpu().numpy()\n",
    "        predictions.append(logits)\n",
    "        true_vals.append(label_ids)\n",
    "    loss_val_avg = loss_val_total / len(dataloader_test)\n",
    "    predictions = np.concatenate(predictions,axis=0)\n",
    "    true_vals = np.concatenate(true_vals,axis=0)\n",
    "    return loss_val_avg,predictions,true_vals"
   ]
  },
  {
   "cell_type": "code",
   "execution_count": null,
   "metadata": {},
   "outputs": [],
   "source": [
    "from torch.optim import Adam\n",
    "from transformers import BertForSequenceClassification\n",
    "from tqdm import tqdm\n",
    "from sklearn.metrics import classification_report\n",
    "import os\n",
    "from transformers import get_linear_schedule_with_warmup\n",
    "SAVE_MODEL_PATH = 'dataset/trained_model/model_2'\n",
    "\n",
    "def train(model, train_data, val_data, learning_rate, epochs):\n",
    "\n",
    "    \n",
    "    use_cuda = torch.cuda.is_available()\n",
    "    device = 'cuda' if use_cuda else 'cpu'\n",
    "    \n",
    "    optimizer = Adam(model.parameters(), lr = 2e-5, eps=1e-8)\n",
    "    total_steps = len(train_data)*epochs\n",
    "    scheduler = get_linear_schedule_with_warmup(optimizer,num_warmup_steps=0,\n",
    "                                           num_training_steps=total_steps)\n",
    "    if use_cuda:\n",
    "        model = model.to(device)\n",
    "        print(device)\n",
    "    torch.cuda.empty_cache()       \n",
    "    for epoch_num in range(epochs):\n",
    "\n",
    "        model.train()\n",
    "        loss_train_total = 0\n",
    "        predictions,true_train = [],[]\n",
    "        for batch in tqdm(train_data):\n",
    "                \n",
    "            model.zero_grad()\n",
    "\n",
    "            batch = tuple(b.to(device) for b in batch)\n",
    "            inputs = {\n",
    "                'input_ids':batch[0],\n",
    "                'attention_mask': batch[1],\n",
    "                'labels': batch[2]\n",
    "            }\n",
    "            outputs = model(**inputs)\n",
    "\n",
    "            loss = outputs[0]\n",
    "            logits = outputs[1]\n",
    "            loss_train_total += loss.item()\n",
    "            logits = logits.detach().cpu().numpy()\n",
    "            label_ids = inputs['labels'].cpu().numpy()\n",
    "            predictions.append(logits)\n",
    "            true_train.append(label_ids)\n",
    "            if len(true_train)%1000==0:\n",
    "                model.save_pretrained(SAVE_MODEL_PATH)   \n",
    "            loss.backward()\n",
    "\n",
    "            torch.nn.utils.clip_grad_norm_(model.parameters(), 1.0)\n",
    "\n",
    "            optimizer.step()\n",
    "            scheduler.step()\n",
    "                \n",
    "        model.save_pretrained(SAVE_MODEL_PATH)\n",
    "        predictions = np.concatenate(predictions,axis=0)\n",
    "        true_train = np.concatenate(true_train,axis=0)\n",
    "        train_acc = accuracy(predictions, true_train)\n",
    "        print(f'\\nEpoch {epoch_num+2}')\n",
    "        print(f'Training Accuracy: {train_acc}')\n",
    "        loss_train_avg = loss_train_total/len(train_dl)            \n",
    "        print(f'Training loss: {loss_train_avg}')\n",
    "        val_loss, predictions, true_vals = evaluate(model, val_data, device)\n",
    "        val_acc = accuracy(predictions, true_vals)\n",
    "        print(f'Validation Accuracy: {val_acc}')\n",
    "        print(f'Validation loss: {val_loss}')"
   ]
  },
  {
   "cell_type": "code",
   "execution_count": null,
   "metadata": {},
   "outputs": [],
   "source": [
    "# Using Bert model\n",
    "\n",
    "EPOCHS = 1\n",
    "LR = 1e-6\n",
    "PRE_MODEL_PATH = 'bert-base-uncased'\n",
    "model = BertForSequenceClassification.from_pretrained(\n",
    "PRE_MODEL_PATH,\n",
    "output_attentions = False,\n",
    "output_hidden_states = False,\n",
    "num_labels = num_labels)\n",
    "\n",
    "# Using RoBERTa\n",
    "# PRE_MODEL_PATH = 'roberta-base'\n",
    "# model = RobertaForSequenceClassification.from_pretrained(\n",
    "# PRE_MODEL_PATH,\n",
    "# output_attentions = False,\n",
    "# output_hidden_states = False,\n",
    "# num_labels = num_labels)\n",
    "\n",
    "# Start training\n",
    "train(model, train_dl, val_dl, LR, EPOCHS)"
   ]
  }
 ],
 "metadata": {
  "kernelspec": {
   "display_name": "Python 3 (ipykernel)",
   "language": "python",
   "name": "python3"
  },
  "language_info": {
   "codemirror_mode": {
    "name": "ipython",
    "version": 3
   },
   "file_extension": ".py",
   "mimetype": "text/x-python",
   "name": "python",
   "nbconvert_exporter": "python",
   "pygments_lexer": "ipython3",
   "version": "3.8.5"
  },
  "vscode": {
   "interpreter": {
    "hash": "8f3f3922a8c7fc5c878a4156b95aceb070294438e4791e163a27d2054f9e89d0"
   }
  }
 },
 "nbformat": 4,
 "nbformat_minor": 4
}
